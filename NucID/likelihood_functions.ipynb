{
 "metadata": {
  "name": "",
  "signature": "sha256:8b772acb79d4f699bd02cda8b3ebe459ec14ecbe42e94e24a3321c416e40b8b1"
 },
 "nbformat": 3,
 "nbformat_minor": 0,
 "worksheets": [
  {
   "cells": [
    {
     "cell_type": "code",
     "collapsed": false,
     "input": [
      "import numpy as np\n",
      "import warnings\n",
      "import numerical_methods as num\n",
      "import parameters as para\n",
      "reload(para)"
     ],
     "language": "python",
     "metadata": {},
     "outputs": [
      {
       "metadata": {},
       "output_type": "pyout",
       "prompt_number": 3,
       "text": [
        "<module 'parameters' from 'parameters.py'>"
       ]
      }
     ],
     "prompt_number": 3
    },
    {
     "cell_type": "markdown",
     "metadata": {},
     "source": [
      "##Parameterized mean curve as $e^a + expb \\times (j - c)^2 + \\lambda_j$"
     ]
    },
    {
     "cell_type": "markdown",
     "metadata": {},
     "source": [
      "where $expb = e^b$. "
     ]
    },
    {
     "cell_type": "code",
     "collapsed": false,
     "input": [
      "def dnase_asinh_normalLogLik_quadmean_expa_with_oscillation(\n",
      "        a, dnase_asinh, oscillation, expb = 0, c = 0, k = 1):\n",
      "    '''parameterized mean curve as exp(a) + expb*(j - c)^2 + lambda_j\n",
      "    dnase_asinh: a n x (2J+1) matrix\n",
      "    '''\n",
      "    \n",
      "    J = (dnase_asinh.shape[1] - 1)/2\n",
      "    j2 = ((np.arange(-J, J + 1) - c) ** 2).reshape(1, -1)\n",
      "    mu =  np.exp(a) + expb * j2 + oscillation\n",
      "    \n",
      "    if(np.sum(mu < 0) > 0):\n",
      "        print 'a mu is < 0'\n",
      "        \n",
      "    var = k * mu\n",
      "    sd = np.sqrt(var)\n",
      "\n",
      "    return num.matrix_normal_logpdf(dnase_asinh, mu, sd)"
     ],
     "language": "python",
     "metadata": {},
     "outputs": []
    },
    {
     "cell_type": "markdown",
     "metadata": {},
     "source": [
      "##Use the same likelihood function as above, but with $a$ integrated out"
     ]
    },
    {
     "cell_type": "code",
     "collapsed": false,
     "input": [
      "def dnase_asinh_normalLogLik_quadmean_expa_marginala_with_oscillation_integrand(\n",
      "        a, dnase_asinh, oscillation, expb = 0, c = 0, k = 1, mu_a = 0, sd_a = 1,\n",
      "        adjustment = 0, log = False, sign = 1):\n",
      "    '''dnase_asinh: a n x (2J+1) matrix\n",
      "    '''\n",
      "\n",
      "    log_integrand1 = dnase_asinh_normalLogLik_quadmean_expa_with_oscillation(a, dnase_asinh, oscillation, \n",
      "                                                                             expb = expb, c = c, k = k)\n",
      "    log_integrand2 = num.normal_logpdf(a, mu_a, sd_a)\n",
      "    log_integrand = log_integrand1 + log_integrand2 \n",
      "    \n",
      "    \n",
      "    if log:\n",
      "        return sign * (log_integrand - adjustment)\n",
      "    else:\n",
      "        return sign * np.exp(log_integrand - adjustment)\n",
      "\n",
      "\n",
      "    \n",
      "def dnase_asinh_normalLogLik_quadmean_expa_marginal_overa_with_oscillation(\n",
      "        dnase_asinh, oscillation,expb = 0, c = 0, k = 1, mu_a = 0, sd_a = 1):\n",
      "    '''normal likelihood function for a asinh transformed DNase data window. \n",
      "    the mean curve is modelled as exp(a) + expb*(j - c)^2 + lambda_j, \n",
      "    where lambda_j is the detrended oscillation series. The parameter a is integrated over a normal\n",
      "    prior with mean mu_a and standard deviation sd_a.\n",
      "    \n",
      "    dnase_asinh -- a nx(2J+1) matrix\n",
      "    '''\n",
      "    \n",
      "    # integration range for a\n",
      "    bounds = [mu_a - 5 * sd_a, mu_a + 5 * sd_a]\n",
      "    \n",
      "    if bounds[0] < np.log(np.max(-oscillation)):\n",
      "        # make sure the mean is bounded larger than 0 because the variance is proportional to the mean\n",
      "        bounds[0] = np.log(np.max(-oscillation)) \n",
      "        \n",
      "    int_res = num.calculate_marginal_likelihood_quadature_integration_scalar(\n",
      "                    dnase_asinh_normalLogLik_quadmean_expa_marginala_with_oscillation_integrand, bounds, \n",
      "                    dnase_asinh, oscillation, expb, c, k, mu_a, sd_a) \n",
      "    \n",
      "    if int_res[1][0] / int_res[1][1] < 1e4:\n",
      "        warnings.warn('integration relative error larger than 1e-4')\n",
      "    \n",
      "    return int_res[0]"
     ],
     "language": "python",
     "metadata": {},
     "outputs": []
    },
    {
     "cell_type": "heading",
     "level": 1,
     "metadata": {},
     "source": [
      "Use the same likelihood function as above, but with both $a$ and $b$ integrated out"
     ]
    },
    {
     "cell_type": "code",
     "collapsed": false,
     "input": [],
     "language": "python",
     "metadata": {},
     "outputs": []
    },
    {
     "cell_type": "markdown",
     "metadata": {},
     "source": [
      "##Bayes factor"
     ]
    },
    {
     "cell_type": "markdown",
     "metadata": {},
     "source": [
      "A function to facilitate the calculation of Bayes factor, using the following:\n",
      "  * Default parameters from Crawford data in ***```parameters.py```***.\n",
      "  * The likelihood is ***```dnase_asinh_normalLogLik_quadmean_expa_marginal_overa_with_oscillation```***. Mean curve is parameterized as $e^a + expb \\times j^2 + \\lambda_j$, where $a$ is integrated out, $expb$ is fixed at MLE and $\\lambda_j$ is the detrended oscillation pattern.\n",
      "  "
     ]
    },
    {
     "cell_type": "code",
     "collapsed": false,
     "input": [
      "def bayes_factor_marginal_over_a(dnase_asinh):\n",
      "    \n",
      "    likelihood = dnase_asinh_normalLogLik_quadmean_expa_marginal_overa_with_oscillation    \n",
      "        \n",
      "    nuc_likelihood = likelihood(\n",
      "        dnase_asinh, oscillation = para.crawford_detrend_nuc_oscillation, expb = para.crawford_nuc_expb, \n",
      "        c = 0, k = para.crawford_nuc_k, mu_a = para.crawford_nuc_a_mu, sd_a = para.crawford_nuc_a_sd\n",
      "        )\n",
      "    \n",
      "    background_likelihood = likelihood(\n",
      "        dnase_asinh, oscillation = para.crawford_detrend_background_oscillation, expb = para.crawford_background_expb, \n",
      "        c = 0, k = para.crawford_background_k, mu_a = para.crawford_background_a_mu, sd_a = para.crawford_background_a_sd\n",
      "        )\n",
      "    \n",
      "    return nuc_likelihood - background_likelihood"
     ],
     "language": "python",
     "metadata": {},
     "outputs": [],
     "prompt_number": 4
    }
   ],
   "metadata": {}
  }
 ]
}